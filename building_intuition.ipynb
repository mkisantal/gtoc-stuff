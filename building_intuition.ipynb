{
 "cells": [
  {
   "cell_type": "code",
   "execution_count": null,
   "metadata": {},
   "outputs": [],
   "source": [
    "%matplotlib notebook"
   ]
  },
  {
   "cell_type": "code",
   "execution_count": null,
   "metadata": {},
   "outputs": [],
   "source": [
    "from matplotlib import pyplot as plt\n",
    "import numpy as np\n",
    "import pykep as pk\n",
    "import pygmo as pg\n",
    "\n",
    "import gtocprep as g\n",
    "from math import pi"
   ]
  },
  {
   "cell_type": "markdown",
   "metadata": {},
   "source": [
    "### Orbital periods\n",
    "What are the orbit periods at the starting position and at the moons?\n",
    "\n",
    "T = 2pi * sqrt(a^3/mu)"
   ]
  },
  {
   "cell_type": "code",
   "execution_count": null,
   "metadata": {},
   "outputs": [],
   "source": [
    "a_range = np.linspace(4*g.RADIUS_SATURN, 1000*g.RADIUS_SATURN, 1000)\n",
    "T = 2 * pi * (a_range**3/g.MU_SATURN)**.5\n",
    "T /= pk.DAY2SEC\n",
    "\n",
    "fig1 = plt.figure(1)\n",
    "ax = fig1.add_subplot(1, 1, 1)\n",
    "ax.plot(a_range/g.RADIUS_SATURN, T)\n",
    "\n",
    "planets = [g.enceladus, g.tethys, g.dione, g.rhea, g.titan]\n",
    "for planet in planets:\n",
    "    a = planet.orbital_elements[0]\n",
    "    name = planet.name\n",
    "    period = 2 * pi * (a**3/g.MU_SATURN)**.5 /pk.DAY2SEC\n",
    "    plt.plot(a/g.RADIUS_SATURN, period, '.', color=g.pl2c[name])\n",
    "    plt.text(a/g.RADIUS_SATURN, period, '  '+name, rotation=-30.)\n",
    "plt.plot(a_range[-1]/g.RADIUS_SATURN, T[-1], '.', color='k')\n",
    "plt.text(a_range[-1]/g.RADIUS_SATURN, T[-1], '  START', rotation=-30.)\n",
    "ax.set_ylabel('$T$ [days]')\n",
    "ax.set_xlabel('${R_{Saturn}}$')\n",
    "pass"
   ]
  },
  {
   "cell_type": "markdown",
   "metadata": {},
   "source": [
    "### Arriving to Titan from start state\n",
    "Doing a Hohmann transfer? Or bi-elliptic? We can choose the "
   ]
  },
  {
   "cell_type": "code",
   "execution_count": null,
   "metadata": {},
   "outputs": [],
   "source": [
    "def hohmann(r1, r2, mu=1.0):\n",
    "    a = 0.5 * (r1 + r2)\n",
    "    vc1 = np.sqrt( mu / r1 )\n",
    "    vp = np.sqrt( (2.0 * mu / r1) - ( mu / a) )\n",
    "    va = np.sqrt( (2.0 * mu / r2) - ( mu / a) )\n",
    "    vc2 = np.sqrt( mu / r2 )\n",
    "    \n",
    "    dv1 = np.abs(vp - vc1)\n",
    "    dv2 = np.abs(vc2 - va)\n",
    "    dv = dv1 + dv2\n",
    "    return dv\n",
    "\n",
    "hohmann(g.titan.orbital_elements[0], g.RADIUS_SATURN*1000, g.MU_SATURN)"
   ]
  },
  {
   "cell_type": "code",
   "execution_count": null,
   "metadata": {},
   "outputs": [],
   "source": [
    "g.titan.orbital_elements[0]"
   ]
  },
  {
   "cell_type": "code",
   "execution_count": null,
   "metadata": {},
   "outputs": [],
   "source": []
  },
  {
   "cell_type": "markdown",
   "metadata": {},
   "source": [
    "### Choosing initial direction\n",
    "How does the direction of velocity at the starting position influences initial orbital elements? I guess we need to minimize initial energy to help slowing down. Also going towards Saturn should help to get there fast.\n",
    "\n",
    "-> Doesn't necessarily make sense, 3km/sec is lot higher than the escape velocity (1.12km/sec)."
   ]
  },
  {
   "cell_type": "code",
   "execution_count": null,
   "metadata": {},
   "outputs": [],
   "source": [
    "(g.RADIUS_SATURN*1000/1000) / 3 / pk.DAY2SEC"
   ]
  },
  {
   "cell_type": "code",
   "execution_count": null,
   "metadata": {},
   "outputs": [],
   "source": [
    "pk.planet.keplerian(g.REF_EPOCH, g.TITAN_ELEM, g.MU_SATURN, g.MU_TITAN, g.RADIUS_TITAN, g.RADIUS_TITAN*1.1, 'spacecraft')"
   ]
  },
  {
   "cell_type": "code",
   "execution_count": null,
   "metadata": {},
   "outputs": [],
   "source": [
    "spacecraft = pk.planet.keplerian(g.REF_EPOCH,\n",
    "                    [g.RADIUS_SATURN*629.376, 0, 0],\n",
    "                    [1000, 1000, 0],\n",
    "                    g.MU_SATURN, 1, 1, 1*1.1, 'spacecraft')\n",
    "fig2 = plt.figure(2)\n",
    "ax2 = fig2.gca(projection='3d')\n",
    "pk.orbit_plots.plot_planet(spacecraft, ax=ax2, color='k', N=1000)"
   ]
  },
  {
   "cell_type": "code",
   "execution_count": null,
   "metadata": {},
   "outputs": [],
   "source": [
    "(2*g.MU_SATURN/((g.RADIUS_SATURN)*1000))**.5/1000"
   ]
  },
  {
   "cell_type": "code",
   "execution_count": null,
   "metadata": {},
   "outputs": [],
   "source": [
    "237948*1000/g.RADIUS_SATURN"
   ]
  },
  {
   "cell_type": "code",
   "execution_count": null,
   "metadata": {},
   "outputs": [],
   "source": []
  }
 ],
 "metadata": {
  "kernelspec": {
   "display_name": "gtoc",
   "language": "python",
   "name": "gtoc"
  },
  "language_info": {
   "codemirror_mode": {
    "name": "ipython",
    "version": 3
   },
   "file_extension": ".py",
   "mimetype": "text/x-python",
   "name": "python",
   "nbconvert_exporter": "python",
   "pygments_lexer": "ipython3",
   "version": "3.7.3"
  }
 },
 "nbformat": 4,
 "nbformat_minor": 2
}
