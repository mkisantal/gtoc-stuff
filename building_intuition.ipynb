{
 "cells": [
  {
   "cell_type": "code",
   "execution_count": null,
   "metadata": {},
   "outputs": [],
   "source": [
    "%matplotlib notebook"
   ]
  },
  {
   "cell_type": "code",
   "execution_count": null,
   "metadata": {},
   "outputs": [],
   "source": [
    "from matplotlib import pyplot as plt\n",
    "import numpy as np\n",
    "import pykep as pk\n",
    "import pygmo as pg\n",
    "\n",
    "import gtocprep as g\n",
    "from math import pi, sin, cos, degrees, radians"
   ]
  },
  {
   "cell_type": "markdown",
   "metadata": {},
   "source": [
    "### Orbital periods\n",
    "What are the orbit periods at the starting position and at the moons?\n",
    "\n",
    "T = 2pi * sqrt(a^3/mu)"
   ]
  },
  {
   "cell_type": "code",
   "execution_count": null,
   "metadata": {},
   "outputs": [],
   "source": [
    "a_range = np.linspace(4*g.RADIUS_SATURN, 1000*g.RADIUS_SATURN, 1000)\n",
    "T = 2 * pi * (a_range**3/g.MU_SATURN)**.5\n",
    "T /= pk.DAY2SEC\n",
    "\n",
    "fig1 = plt.figure(1)\n",
    "ax = fig1.add_subplot(1, 1, 1)\n",
    "ax.plot(a_range/g.RADIUS_SATURN, T)\n",
    "\n",
    "planets = [g.enceladus, g.tethys, g.dione, g.rhea, g.titan]\n",
    "for planet in planets:\n",
    "    a = planet.orbital_elements[0]\n",
    "    name = planet.name\n",
    "    period = 2 * pi * (a**3/g.MU_SATURN)**.5 /pk.DAY2SEC\n",
    "    print('{}: {}'.format(name, period))\n",
    "    plt.plot(a/g.RADIUS_SATURN, period, '.', color=g.pl2c[name])\n",
    "    plt.text(a/g.RADIUS_SATURN, period, '  '+name, rotation=-30.)\n",
    "plt.plot(a_range[-1]/g.RADIUS_SATURN, T[-1], '.', color='k')\n",
    "plt.text(a_range[-1]/g.RADIUS_SATURN, T[-1], '  START', rotation=-30.)\n",
    "ax.set_ylabel('$T$ [days]')\n",
    "ax.set_xlabel('${R_{Saturn}}$')\n",
    "pass"
   ]
  },
  {
   "cell_type": "markdown",
   "metadata": {},
   "source": [
    "### Arriving to Titan from start state\n",
    "Doing a Hohmann transfer? Or bi-elliptic? We can choose the "
   ]
  },
  {
   "cell_type": "code",
   "execution_count": null,
   "metadata": {},
   "outputs": [],
   "source": [
    "def hohmann(r1, r2, mu=1.0):\n",
    "    a = 0.5 * (r1 + r2)\n",
    "    vc1 = np.sqrt( mu / r1 )\n",
    "    vp = np.sqrt( (2.0 * mu / r1) - ( mu / a) )\n",
    "    va = np.sqrt( (2.0 * mu / r2) - ( mu / a) )\n",
    "    vc2 = np.sqrt( mu / r2 )\n",
    "    \n",
    "    dv1 = np.abs(vp - vc1)\n",
    "    dv2 = np.abs(vc2 - va)\n",
    "    dv = dv1 + dv2\n",
    "    return dv\n",
    "\n",
    "hohmann(g.titan.orbital_elements[0], g.RADIUS_SATURN*1000, g.MU_SATURN)"
   ]
  },
  {
   "cell_type": "code",
   "execution_count": null,
   "metadata": {},
   "outputs": [],
   "source": [
    "g.titan.orbital_elements[0]"
   ]
  },
  {
   "cell_type": "code",
   "execution_count": null,
   "metadata": {},
   "outputs": [],
   "source": []
  },
  {
   "cell_type": "markdown",
   "metadata": {},
   "source": [
    "### Choosing initial direction\n",
    "How does the direction of velocity at the starting position influences initial orbital elements? I guess we need to minimize initial energy to help slowing down. Also going towards Saturn should help to get there fast.\n",
    "\n",
    "-> Doesn't necessarily make sense, 3km/sec is lot higher than the escape velocity (1.12km/sec)."
   ]
  },
  {
   "cell_type": "code",
   "execution_count": null,
   "metadata": {},
   "outputs": [],
   "source": [
    "(g.RADIUS_SATURN*1000/1000) / 3 / pk.DAY2SEC"
   ]
  },
  {
   "cell_type": "code",
   "execution_count": null,
   "metadata": {},
   "outputs": [],
   "source": [
    "# pk.planet.keplerian(g.REF_EPOCH, g.TITAN_ELEM, g.MU_SATURN, g.MU_TITAN, g.RADIUS_TITAN, g.RADIUS_TITAN*1.1, 'spacecraft')"
   ]
  },
  {
   "cell_type": "code",
   "execution_count": null,
   "metadata": {},
   "outputs": [],
   "source": [
    "spacecraft = pk.planet.keplerian(g.REF_EPOCH,\n",
    "                    [g.RADIUS_SATURN*629.376, 0, 0],\n",
    "                    [1000, 1000, 0],\n",
    "                    g.MU_SATURN, 1, 1, 1*1.1, 'spacecraft')\n",
    "fig2 = plt.figure(2)\n",
    "ax2 = fig2.gca(projection='3d')\n",
    "pk.orbit_plots.plot_planet(spacecraft, ax=ax2, color='k', N=1000)"
   ]
  },
  {
   "cell_type": "code",
   "execution_count": null,
   "metadata": {},
   "outputs": [],
   "source": [
    "(2*g.MU_SATURN/((g.RADIUS_SATURN)*1000))**.5/1000"
   ]
  },
  {
   "cell_type": "code",
   "execution_count": null,
   "metadata": {},
   "outputs": [],
   "source": [
    "237948*1000/g.RADIUS_SATURN"
   ]
  },
  {
   "cell_type": "markdown",
   "metadata": {},
   "source": [
    "### Playing with fly-bys\n",
    "\n",
    "Considering arriving in the same plane, how Beta and the relative heading influences the output velocity magnitude?"
   ]
  },
  {
   "cell_type": "code",
   "execution_count": null,
   "metadata": {},
   "outputs": [],
   "source": [
    "r_titan, v_titan = g.titan.eph(g.REF_EPOCH)\n",
    "x_t = v_titan / np.linalg.norm(v_titan)\n",
    "y_t = r_titan / np.linalg.norm(r_titan)\n",
    "\n",
    "\n",
    "mu = g.MU_TITAN\n",
    "\n",
    "phi = 0 * 2 * pi  # angle measured from titan velocity\n",
    "magnitude = 3000  # m/s\n",
    "\n",
    "def calculate_v_outs(values, rp, beta):\n",
    "    v_outs = []\n",
    "    for value in values:\n",
    "    \n",
    "        phi = radians(value)\n",
    "    \n",
    "        v_in = magnitude * (x_t*np.cos(phi) + y_t*np.sin(phi))\n",
    "        v_out = pk.fb_prop(v_in, v_titan, rp, beta,mu)\n",
    "        v_outs.append(np.linalg.norm(v_out))\n",
    "    return v_outs\n",
    "\n",
    "fig3 = plt.figure(3)\n",
    "ax = fig3.add_subplot(1, 1, 1)    \n",
    "\n",
    "rp = g.RADIUS_TITAN * 2\n",
    "beta = 0.00*pi\n",
    "values = np.linspace(-10, 370, 381)\n",
    "v_outs1 = calculate_v_outs(values, rp, beta)\n",
    "ax.plot(values, v_outs1, label='0')\n",
    "\n",
    "beta = .25*pi\n",
    "values = np.linspace(-10, 370, 381)\n",
    "v_outs2 = calculate_v_outs(values, rp, beta)\n",
    "ax.plot(values, v_outs2, label='45 deg')\n",
    "\n",
    "beta = .5*pi\n",
    "values = np.linspace(-10, 370, 381)\n",
    "v_outs3 = calculate_v_outs(values, rp, beta)\n",
    "ax.plot(values, v_outs3, label='90 deg')\n",
    "\n",
    "ax.grid(True)\n",
    "plt.legend(title='Beta angle')\n",
    "ax.set_xlabel('realtive heading')\n",
    "ax.set_ylabel('$|v_{out}|$')"
   ]
  },
  {
   "cell_type": "markdown",
   "metadata": {},
   "source": [
    "So apparently\n",
    "  * the biggest speed change is if we are staying in the plane (beta=90). \n",
    "  * If beta is small enough, the object only gains speed (get's a huge inclination as well), cannot break"
   ]
  },
  {
   "cell_type": "code",
   "execution_count": null,
   "metadata": {},
   "outputs": [],
   "source": [
    "fig3 = plt.figure(4)\n",
    "ax = fig3.add_subplot(1, 1, 1)    \n",
    "\n",
    "beta = .5*pi\n",
    "\n",
    "rp = g.RADIUS_TITAN * 2\n",
    "values = np.linspace(-10, 370, 380)\n",
    "v_outs1 = calculate_v_outs(values, rp, beta)\n",
    "ax.plot(values, v_outs1, label='2')\n",
    "\n",
    "rp = g.RADIUS_TITAN * 3\n",
    "values = np.linspace(-10, 370, 380)\n",
    "v_outs2 = calculate_v_outs(values, rp, beta)\n",
    "ax.plot(values, v_outs2, label='3')\n",
    "\n",
    "rp = g.RADIUS_TITAN * 4\n",
    "values = np.linspace(-10, 370, 380)\n",
    "v_outs3 = calculate_v_outs(values, rp, beta)\n",
    "ax.plot(values, v_outs3, label='4')\n",
    "\n",
    "ax.grid(True)\n",
    "plt.legend(title='$R_{Saturn}$')\n",
    "ax.set_xlabel('realtive heading')\n",
    "ax.set_ylabel('$|v_{out}|$')"
   ]
  },
  {
   "cell_type": "markdown",
   "metadata": {},
   "source": [
    "Nothing surprising here, the closer we are the bigger delta_v we get."
   ]
  },
  {
   "cell_type": "markdown",
   "metadata": {},
   "source": [
    "### Detecting when we pass through periapsis\n",
    "\n",
    "There is a constraint on the minimum distance from Saturn. In the first approximation we can check if we have a periapsis smaller than the safety radius, and check if we actually pass through that point.\n",
    "\n",
    "First, let's play a bit with eccentricities."
   ]
  },
  {
   "cell_type": "code",
   "execution_count": null,
   "metadata": {},
   "outputs": [],
   "source": [
    "# Generate pseudo-planet with circular orbit as starting point\n",
    "a = g.RADIUS_SATURN * 4\n",
    "e = 0.8\n",
    "# we take the remaining orbital elements from Titan\n",
    "i, W, w, M = 2.769808447473740E+01 * pk.DEG2RAD, 1.690711523205395E+02 * pk.DEG2RAD, 1.746196276345883E+02 * pk.DEG2RAD, 1.869169041332501E+02 * pk.DEG2RAD\n",
    "pseudo = pk.planet.keplerian(g.REF_EPOCH, [a,e,i,W,w,M], g.MU_SATURN, 1.0, 1.0, 1.1, 'pseudo')\n",
    "\n",
    "\n",
    "fig = plt.figure()\n",
    "ax = fig.gca(projection='3d')\n",
    "pk.orbit_plots.plot_planet(pseudo, ax=ax, color=g.pl2c[pseudo.name])\n",
    "pk.orbit_plots.plot_planet(g.enceladus, ax=ax, color=g.pl2c[g.enceladus.name])\n",
    "pk.orbit_plots.plot_planet(g.titan, ax=ax, color=g.pl2c[g.titan.name])"
   ]
  },
  {
   "cell_type": "code",
   "execution_count": null,
   "metadata": {
    "scrolled": false
   },
   "outputs": [],
   "source": [
    "fig8 = plt.figure(9)\n",
    "ax = fig8.add_subplot(1, 1, 1)\n",
    "\n",
    "arr = []\n",
    "values = np.linspace(0, 3, 500)\n",
    "\n",
    "# pick an initial epoch -> position\n",
    "T0 = g.REF_EPOCH.mjd + 1.5\n",
    "r0, v0 = pseudo.eph(pk.epoch(T0))\n",
    "\n",
    "# getting the orbital parameters and the initial eccentric anomaly\n",
    "a, _, _, _, _,E0 = pk.ic2par(r0, v0, g.MU_SATURN)\n",
    "period = 2 * pi * (a**3/g.MU_SATURN)**.5 /pk.DAY2SEC\n",
    "\n",
    "# logic implemented here\n",
    "def periapsis_passed(E0, E, delta_T, T_orbit):\n",
    "    if delta_T > T_orbit:\n",
    "        return True\n",
    "    if E0 > 0:\n",
    "        # flying away\n",
    "        return (E<E0 and E>0)\n",
    "    else:\n",
    "        # flying towards\n",
    "        return (E>0 or delta_T>T_orbit/2)\n",
    "\n",
    "# testing for a range of time differences\n",
    "for i in values:\n",
    "\n",
    "    delta_T = i\n",
    "    \n",
    "    # where is our planet?\n",
    "    r1, v1 = pseudo.eph(pk.epoch(T0+i))\n",
    "    _,_,_,_,_,E = pk.ic2par(r1, v1, g.MU_SATURN)\n",
    "    \n",
    "    # are we passing E=0 along the arc?\n",
    "    passing_periapsis = periapsis_passed(E0, E, delta_T, period)\n",
    "    c = 'r' if passing_periapsis else 'b'\n",
    "    ax.scatter(i, degrees(E), color=c, marker='.')\n",
    "ax.set_xlabel('delta T [days]')\n",
    "ax.set_ylabel('Eccentric anomaly [degrees]')"
   ]
  },
  {
   "cell_type": "code",
   "execution_count": null,
   "metadata": {},
   "outputs": [],
   "source": []
  }
 ],
 "metadata": {
  "kernelspec": {
   "display_name": "gtoc",
   "language": "python",
   "name": "gtoc"
  },
  "language_info": {
   "codemirror_mode": {
    "name": "ipython",
    "version": 3
   },
   "file_extension": ".py",
   "mimetype": "text/x-python",
   "name": "python",
   "nbconvert_exporter": "python",
   "pygments_lexer": "ipython3",
   "version": "3.7.3"
  }
 },
 "nbformat": 4,
 "nbformat_minor": 2
}
