{
 "cells": [
  {
   "cell_type": "code",
   "execution_count": null,
   "metadata": {},
   "outputs": [],
   "source": [
    "%matplotlib notebook\n",
    "import pykep as pk\n",
    "from matplotlib import pyplot as plt\n",
    "import numpy as np\n",
    "\n",
    "import matplotlib as mpl\n",
    "from mpl_toolkits.mplot3d import Axes3D\n",
    "import matplotlib.pyplot as plt\n",
    "from pykep.orbit_plots import plot_planet, plot_lambert"
   ]
  },
  {
   "cell_type": "code",
   "execution_count": null,
   "metadata": {
    "scrolled": true
   },
   "outputs": [],
   "source": [
    "from pykep.planet import jpl_lp\n",
    "mars = jpl_lp('mars')\n",
    "earth = jpl_lp('earth')"
   ]
  },
  {
   "cell_type": "code",
   "execution_count": null,
   "metadata": {},
   "outputs": [],
   "source": [
    "from pykep import epoch, DAY2SEC, AU, MU_SUN\n",
    "t1 = epoch(0)\n",
    "t2 = epoch(640)\n",
    "dt = (t2.mjd2000 - t1.mjd2000) * DAY2SEC"
   ]
  },
  {
   "cell_type": "code",
   "execution_count": null,
   "metadata": {},
   "outputs": [],
   "source": []
  },
  {
   "cell_type": "code",
   "execution_count": null,
   "metadata": {},
   "outputs": [],
   "source": [
    "earth = jpl_lp('saturn')"
   ]
  },
  {
   "cell_type": "code",
   "execution_count": null,
   "metadata": {},
   "outputs": [],
   "source": [
    "fig = plt.figure()\n",
    "axis = fig.gca(projection='3d')\n",
    "\n",
    "plot_planet(earth, t0=t1, color=(0.8, 0.8, 1), legend=True, units=AU, ax=axis)\n",
    "rE, vE = earth.eph(t1)\n",
    "\n",
    "\n",
    "AU, MU_SUN\n",
    "plot_planet(\n",
    "    mars, t0=t2, color=(0.8, 0.8, 1), legend=True, units=AU, ax=axis)\n",
    "rM, vM = mars.eph(t2)\n",
    "\n",
    "from pykep import lambert_problem\n",
    "\n",
    "l = lambert_problem(rE, rM, dt*2, MU_SUN, False, 5)\n",
    "print(l.get_Nmax())\n",
    "plot_lambert(l, sol=4, color='b', legend=True, units=AU, ax=axis)"
   ]
  },
  {
   "cell_type": "code",
   "execution_count": null,
   "metadata": {},
   "outputs": [],
   "source": [
    "l"
   ]
  },
  {
   "cell_type": "code",
   "execution_count": null,
   "metadata": {},
   "outputs": [],
   "source": [
    "np.linalg.norm(np.array(l.get_v1()), axis=1)"
   ]
  },
  {
   "cell_type": "code",
   "execution_count": null,
   "metadata": {},
   "outputs": [],
   "source": [
    "np.linalg.norm(np.array(l.get_v2()), axis=1)"
   ]
  },
  {
   "cell_type": "code",
   "execution_count": null,
   "metadata": {},
   "outputs": [],
   "source": [
    "a_am = 1 - np.array(l.get_x())**2\n",
    "a_am.shape"
   ]
  },
  {
   "cell_type": "code",
   "execution_count": null,
   "metadata": {},
   "outputs": [],
   "source": [
    "res = 1000\n",
    "\n",
    "solutions = []\n",
    "\n",
    "for t in np.arange(dt/5, dt*4, (dt*2-dt/2)/res):\n",
    "    \n",
    "    l = lambert_problem(rE, rM, t, MU_SUN, False, 5)\n",
    "    a_am = np.array(l.get_x())**2 +1 \n",
    "    solutions.append([t, a_am])\n"
   ]
  },
  {
   "cell_type": "code",
   "execution_count": null,
   "metadata": {},
   "outputs": [],
   "source": [
    "M = []\n",
    "for solution in solutions:\n",
    "    if len(M) < len(solution[1]):\n",
    "        for i in range(len(solution[1]) - len(M)):\n",
    "            M.append([[],[]])\n",
    "    t = solution[0]\n",
    "    a_ams = solution[1]\n",
    "    for i, a_am in enumerate(a_ams):\n",
    "        M[i][0].append(a_am)\n",
    "        M[i][1].append(t)\n",
    "\n",
    "N = []\n",
    "for i in range(len(M)-2):\n",
    "    x = M[i+1][0] + M[i+2][0]\n",
    "    y = M[i+1][1] + M[i+2][1]\n",
    "    N.append([x, y])"
   ]
  },
  {
   "cell_type": "code",
   "execution_count": null,
   "metadata": {
    "scrolled": true
   },
   "outputs": [],
   "source": [
    "fig = plt.figure(2)\n",
    "ax = fig.add_subplot(1, 1, 1)\n",
    "for solution in solutions:\n",
    "    t = solution[0]\n",
    "    a_ams = solution[1]\n",
    "    for a_am in a_ams:\n",
    "        ax.plot(a_am, t, 'k.')"
   ]
  },
  {
   "cell_type": "code",
   "execution_count": null,
   "metadata": {},
   "outputs": [],
   "source": [
    "fig3 = plt.figure(3)\n",
    "ax3 = fig3.add_subplot(1, 1, 1)\n",
    "for m in M:\n",
    "    ax3.plot(m[0], m[1])"
   ]
  },
  {
   "cell_type": "code",
   "execution_count": null,
   "metadata": {},
   "outputs": [],
   "source": [
    "fig4 = plt.figure(4)\n",
    "ax4 = fig4.add_subplot(1, 1, 1)\n",
    "for n in N:\n",
    "    ax4.plot(m[0], m[1])"
   ]
  },
  {
   "cell_type": "code",
   "execution_count": null,
   "metadata": {},
   "outputs": [],
   "source": [
    "len(N)"
   ]
  },
  {
   "cell_type": "code",
   "execution_count": null,
   "metadata": {},
   "outputs": [],
   "source": []
  }
 ],
 "metadata": {
  "kernelspec": {
   "display_name": "gtoc2",
   "language": "python",
   "name": "gtoc2"
  },
  "language_info": {
   "codemirror_mode": {
    "name": "ipython",
    "version": 3
   },
   "file_extension": ".py",
   "mimetype": "text/x-python",
   "name": "python",
   "nbconvert_exporter": "python",
   "pygments_lexer": "ipython3",
   "version": "3.7.2"
  }
 },
 "nbformat": 4,
 "nbformat_minor": 2
}
