{
 "cells": [
  {
   "cell_type": "code",
   "execution_count": null,
   "metadata": {},
   "outputs": [],
   "source": [
    "%matplotlib notebook\n",
    "import pykep as pk\n",
    "from matplotlib import pyplot as plt\n",
    "import numpy as np\n",
    "\n",
    "import matplotlib as mpl\n",
    "from mpl_toolkits.mplot3d import Axes3D\n",
    "import matplotlib.pyplot as plt\n",
    "from pykep.orbit_plots import plot_planet, plot_lambert\n",
    "from pykep.planet import jpl_lp\n",
    "from pykep import epoch, DAY2SEC, SEC2DAY, AU, MU_SUN, lambert_problem\n"
   ]
  },
  {
   "cell_type": "code",
   "execution_count": null,
   "metadata": {},
   "outputs": [],
   "source": [
    "# planets\n",
    "mars = jpl_lp('mars')\n",
    "earth = jpl_lp('earth')"
   ]
  },
  {
   "cell_type": "code",
   "execution_count": null,
   "metadata": {},
   "outputs": [],
   "source": [
    "# times\n",
    "t1 = epoch(0)\n",
    "t2 = epoch(640)\n",
    "dt = (t2.mjd2000 - t1.mjd2000) * DAY2SEC"
   ]
  },
  {
   "cell_type": "code",
   "execution_count": null,
   "metadata": {},
   "outputs": [],
   "source": [
    "fig = plt.figure()\n",
    "axis = fig.gca(projection='3d')\n",
    "\n",
    "# plotting the planets\n",
    "plot_planet(earth, t0=t1, color=(0.8, 0.8, 1), legend=True, units=AU, ax=axis)\n",
    "plot_planet(mars, t0=t2, color=(0.8, 0.8, 1), legend=True, units=AU, ax=axis)\n",
    "axis.set_xlim(-1.5, 1.5)\n",
    "axis.set_ylim(-1.5, 1.5)\n",
    "axis.set_zlim(-1.5, 1.5)\n",
    "\n",
    "# boundary conditions\n",
    "rE, vE = earth.eph(t1)\n",
    "rM, vM = mars.eph(t2)\n",
    "\n",
    "# Lambert's problem\n",
    "l = lambert_problem(rE, rM, dt*2, MU_SUN, False, 2)\n",
    "plot_lambert(l, sol=1, color='b', legend=True, units=AU, ax=axis)"
   ]
  },
  {
   "cell_type": "code",
   "execution_count": null,
   "metadata": {},
   "outputs": [],
   "source": [
    "# calculating a bunch of lambert's problems with fixed start date, varying transfer times\n",
    "\n",
    "res = 100\n",
    "\n",
    "\n",
    "\n",
    "solutions = []\n",
    "solutions2 = []\n",
    "transfer_times = np.arange(dt/10, dt*4, (dt*2-dt/2)/res)\n",
    "# for t in transfer_times:\n",
    "#     rM, vM = mars.eph(epoch(t1.mjd2000 + t * SEC2DAY))\n",
    "\n",
    "start_times = np.arange(0, 2000, .1)\n",
    "for start_offset in start_times:\n",
    "    t1_offset = epoch(t1.mjd2000 + start_offset)\n",
    "    rE, vE = earth.eph(t1_offset)\n",
    "    rM, vM = mars.eph(epoch(t1.mjd2000 + dt * SEC2DAY))\n",
    "    vE, vM = np.array(vE), np.array(vM)\n",
    "\n",
    "#     l = lambert_problem(rE, rM, t, MU_SUN, False, 1)\n",
    "    l = lambert_problem(rE, rM, dt, MU_SUN, False, 0)\n",
    "    a_am = np.array(l.get_x())**2 +1 \n",
    "    delta_v = np.linalg.norm(np.array(l.get_v1())-vE, axis=1) + np.linalg.norm(np.array(l.get_v2()-vM), axis=1)\n",
    "#     solutions.append([t, a_am, delta_v])\n",
    "    solutions.append([t1_offset.mjd2000, a_am, delta_v])\n",
    "    \n"
   ]
  },
  {
   "cell_type": "code",
   "execution_count": null,
   "metadata": {},
   "outputs": [],
   "source": [
    "results2 = []\n",
    "\n",
    "res = 150\n",
    "transfer_times = np.linspace(dt/10, dt*1, res)\n",
    "start_times = np.linspace(250, 750, res)\n",
    "delta_vs = np.zeros([res, res])\n",
    "\n",
    "for i, start_time in enumerate(start_times):\n",
    "    t1_offset = epoch(t1.mjd2000 + start_time)\n",
    "    rE, vE = earth.eph(t1_offset)\n",
    "    \n",
    "    for j, transfer_time in enumerate(transfer_times):\n",
    "        t2 = epoch(t1_offset.mjd2000 + transfer_time * SEC2DAY)\n",
    "        rM, vM = mars.eph(t2)\n",
    "        \n",
    "        l = lambert_problem(rE, rM, transfer_time, MU_SUN, False, 0)\n",
    "        delta_v = np.linalg.norm(np.array(l.get_v1())-vE, axis=1) + np.linalg.norm(np.array(l.get_v2())-vM, axis=1)\n",
    "\n",
    "        results2.append([t1_offset.mjd2000, t2.mjd2000, delta_v[0]])\n",
    "        delta_vs[j, i] = delta_v"
   ]
  },
  {
   "cell_type": "code",
   "execution_count": null,
   "metadata": {},
   "outputs": [],
   "source": []
  },
  {
   "cell_type": "code",
   "execution_count": null,
   "metadata": {},
   "outputs": [],
   "source": [
    "# reorganizing transfer_time - dv pairs for different number of revolutions\n",
    "dv = []\n",
    "for solution in solutions:\n",
    "    if len(dv) < len(solution[1]):\n",
    "        for i in range(len(solution[1]) - len(dv)):\n",
    "            dv.append([[],[]])\n",
    "    t = solution[0]\n",
    "    delta_vs = solution[2]\n",
    "    for i, delta_v in enumerate(delta_vs):\n",
    "        dv[i][1].append(delta_v)\n",
    "        dv[i][0].append(t)\n"
   ]
  },
  {
   "cell_type": "code",
   "execution_count": null,
   "metadata": {},
   "outputs": [],
   "source": [
    "fig = plt.figure(2)\n",
    "ax = fig.add_subplot(1, 1, 1)\n",
    "# for solution in solutions:\n",
    "#     t = solution[0]\n",
    "#     delta_vs = solution[1]\n",
    "#     for delta_v in delta_vs:\n",
    "#         ax.plot(t, delta_v, 'k.')\n",
    "for x in dv:\n",
    "    ax.plot(x[0], x[1], '.')"
   ]
  },
  {
   "cell_type": "code",
   "execution_count": null,
   "metadata": {},
   "outputs": [],
   "source": [
    "fig = plt.figure(3)\n",
    "ax = fig.add_subplot(1, 1, 1, projection='3d')\n",
    "# for result in results2:\n",
    "    \n",
    "#     ax.scatter(result[0], result[1], result[2], '*', color='k')\n",
    "\n",
    "xx, yy = np.meshgrid(range(res), range(res))\n",
    "ax.plot_surface(xx, yy, delta_vs)\n",
    "\n",
    "# results2 = np.array(results2)\n",
    "# ax.contourf(start_times, transfer_times, delta_vs, np.min(results2[:, 2]) * np.array([ 1.01, 1.011,1.05, 1.1, 2., 3., 4., 5.,]) )\n",
    "# plt.xlabel('x')\n",
    "# plt.ylabel('y')\n"
   ]
  },
  {
   "cell_type": "code",
   "execution_count": null,
   "metadata": {},
   "outputs": [],
   "source": [
    "len(results2)"
   ]
  },
  {
   "cell_type": "code",
   "execution_count": null,
   "metadata": {},
   "outputs": [],
   "source": [
    "np.arange(res)"
   ]
  },
  {
   "cell_type": "code",
   "execution_count": null,
   "metadata": {},
   "outputs": [],
   "source": [
    "delta_vs.shape"
   ]
  },
  {
   "cell_type": "code",
   "execution_count": null,
   "metadata": {},
   "outputs": [],
   "source": []
  }
 ],
 "metadata": {
  "kernelspec": {
   "display_name": "gtoc",
   "language": "python",
   "name": "gtoc"
  },
  "language_info": {
   "codemirror_mode": {
    "name": "ipython",
    "version": 3
   },
   "file_extension": ".py",
   "mimetype": "text/x-python",
   "name": "python",
   "nbconvert_exporter": "python",
   "pygments_lexer": "ipython3",
   "version": "3.7.0"
  }
 },
 "nbformat": 4,
 "nbformat_minor": 2
}
