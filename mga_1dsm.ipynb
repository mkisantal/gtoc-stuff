{
 "cells": [
  {
   "cell_type": "markdown",
   "metadata": {},
   "source": [
    "## Optimizing MGA-1dsm\n",
    "\n"
   ]
  },
  {
   "cell_type": "code",
   "execution_count": null,
   "metadata": {},
   "outputs": [],
   "source": [
    "%matplotlib notebook"
   ]
  },
  {
   "cell_type": "code",
   "execution_count": null,
   "metadata": {},
   "outputs": [],
   "source": [
    "import pykep as pk\n",
    "import pygmo as pg\n",
    "import numpy as np\n",
    "\n",
    "import matplotlib.pyplot as plt\n",
    "\n",
    "from tqdm import tqdm_notebook as tqdm\n",
    "\n",
    "import gtocprep as g"
   ]
  },
  {
   "cell_type": "code",
   "execution_count": null,
   "metadata": {},
   "outputs": [],
   "source": [
    "V0 = 3000 # m/s\n",
    "R0 = 1000 * g.RADIUS_SATURN # m\n",
    "M0 = 5000 # kg\n",
    "ISP = 308 # s\n",
    "MPROP = 2000 # kg\n",
    "T_START, T_END = 20000, 24000 # MJD2000"
   ]
  },
  {
   "cell_type": "code",
   "execution_count": null,
   "metadata": {},
   "outputs": [],
   "source": [
    "# Generate pseudo-planet with circular orbit as starting point\n",
    "a = R0\n",
    "e = 0.0\n",
    "# we take the remaining orbital elements from Titan\n",
    "i, W, w, M = 2.769808447473740E+01 * pk.DEG2RAD, 1.690711523205395E+02 * pk.DEG2RAD, 1.746196276345883E+02 * pk.DEG2RAD, 1.869169041332501E+02 * pk.DEG2RAD\n",
    "pseudo = pk.planet.keplerian(g.REF_EPOCH, [a,e,i,W,w,M], g.MU_SATURN, 1.0, 1.0, 1.1, 'pseudo')"
   ]
  },
  {
   "cell_type": "code",
   "execution_count": null,
   "metadata": {},
   "outputs": [],
   "source": [
    "seq = [pseudo, g.titan, g.titan, g.titan]\n",
    "\n",
    "# good starting epoch: 23948.880338224088\n",
    "t0 = [pk.epoch(23947), pk.epoch(23949)]\n",
    "\n",
    "# tof = [[215.0, 215.5], [50, 100], [20, 40]]\n",
    "tof = [300, 365]\n",
    "\n",
    "vinf = [3, 3] # m/s"
   ]
  },
  {
   "cell_type": "code",
   "execution_count": null,
   "metadata": {},
   "outputs": [],
   "source": [
    "udp = pk.trajopt.mga_1dsm(seq, t0, tof, vinf)\n",
    "# udp = g.mga_1dsm_incipit(seq, t0, tof, vinf)\n",
    "\n",
    "prob = pg.problem(udp)\n",
    "uda = pg.algorithms.sade(memory=True)\n",
    "alg = pg.algorithm(uda)\n",
    "pop = pg.population(prob, 20)"
   ]
  },
  {
   "cell_type": "code",
   "execution_count": null,
   "metadata": {},
   "outputs": [],
   "source": [
    "for i in tqdm(list(range(1000))):\n",
    "    pop = alg.evolve(pop)\n",
    "dv = pop.champion_f[0]\n",
    "veff = ISP * pk.G0\n",
    "mf = M0 / np.exp(dv / veff)\n",
    "print('DV: {0:0.3f}m/s, propellant used: {1:0.3f}kg'.format(dv, M0 - mf))"
   ]
  },
  {
   "cell_type": "code",
   "execution_count": null,
   "metadata": {},
   "outputs": [],
   "source": [
    "udp.pretty(pop.champion_x)"
   ]
  },
  {
   "cell_type": "code",
   "execution_count": null,
   "metadata": {},
   "outputs": [],
   "source": [
    "ax = udp.plot(pop.champion_x)\n",
    "axlim = .02\n",
    "ax.set_xlim3d(-axlim, axlim)\n",
    "ax.set_ylim3d(-axlim, axlim)\n",
    "ax.set_zlim3d(-axlim, axlim)\n",
    "ax.view_init(elev=90, azim=90)\n",
    "plt.show()"
   ]
  }
 ],
 "metadata": {
  "kernelspec": {
   "display_name": "gtoc",
   "language": "python",
   "name": "gtoc"
  },
  "language_info": {
   "codemirror_mode": {
    "name": "ipython",
    "version": 3
   },
   "file_extension": ".py",
   "mimetype": "text/x-python",
   "name": "python",
   "nbconvert_exporter": "python",
   "pygments_lexer": "ipython3",
   "version": "3.7.3"
  }
 },
 "nbformat": 4,
 "nbformat_minor": 2
}
